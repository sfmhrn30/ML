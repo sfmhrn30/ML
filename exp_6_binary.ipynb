{
 "cells": [
  {
   "cell_type": "code",
   "execution_count": 1,
   "metadata": {
    "id": "YvGPUQaHhXfL"
   },
   "outputs": [],
   "source": [
    "import numpy as np\n",
    "import matplotlib.pyplot as plt\n",
    "import pandas as pd"
   ]
  },
  {
   "cell_type": "code",
   "execution_count": 2,
   "metadata": {
    "id": "M52QDmyzhh9s"
   },
   "outputs": [],
   "source": [
    "dataset = pd.read_csv('Social_Network_Ads.csv')\n",
    "X = dataset.iloc[:, :-1].values\n",
    "y = dataset.iloc[:, -1].values"
   ]
  },
  {
   "cell_type": "code",
   "execution_count": 3,
   "metadata": {
    "id": "AVzJWAXIhxoC"
   },
   "outputs": [],
   "source": [
    "from sklearn.model_selection import train_test_split\n",
    "X_train, X_test, y_train, y_test = train_test_split(X, y, test_size = 0.25, random_state = 0)"
   ]
  },
  {
   "cell_type": "code",
   "execution_count": 4,
   "metadata": {
    "id": "9fQlDPKCh8sc"
   },
   "outputs": [],
   "source": [
    "from sklearn.preprocessing import StandardScaler\n",
    "sc = StandardScaler()\n",
    "X_train = sc.fit_transform(X_train)\n",
    "X_test = sc.transform(X_test)"
   ]
  },
  {
   "cell_type": "code",
   "execution_count": 5,
   "metadata": {
    "id": "fe7_pFsldEIG"
   },
   "outputs": [],
   "source": [
    "#decision_tree_classifier_using_entropy_criterion\n",
    "from sklearn.tree import DecisionTreeClassifier\n",
    "dec_en = DecisionTreeClassifier(criterion = 'entropy', random_state = 0)\n",
    "dec_en.fit(X_train, y_train)\n",
    "y_pred_dec_en=dec_en.predict(X_test)"
   ]
  },
  {
   "cell_type": "code",
   "execution_count": 6,
   "metadata": {
    "id": "p_gt3jPshCAs"
   },
   "outputs": [],
   "source": [
    "#random_forest_classifier_using_entropy_criterion\n",
    "from sklearn.ensemble import RandomForestClassifier\n",
    "rf_classifier = RandomForestClassifier(n_estimators=10, criterion='entropy', random_state=0)\n",
    "rf_classifier.fit(X_train, y_train)\n",
    "y_pred_rf_en = rf_classifier.predict(X_test)"
   ]
  },
  {
   "cell_type": "code",
   "execution_count": 7,
   "metadata": {
    "id": "EK5ycU-pi27P"
   },
   "outputs": [],
   "source": [
    "#bagging_classifier_using_entropy_criterion\n",
    "from sklearn.ensemble import BaggingClassifier\n",
    "from sklearn.tree import DecisionTreeClassifier\n",
    "base_classifier = DecisionTreeClassifier(criterion='entropy', random_state=0)\n",
    "bagging_classifier = BaggingClassifier(base_classifier, n_estimators=10, random_state=0)\n",
    "bagging_classifier.fit(X_train, y_train)\n",
    "y_pred_bag_en= bagging_classifier.predict(X_test)"
   ]
  },
  {
   "cell_type": "code",
   "execution_count": 8,
   "metadata": {
    "id": "PJpMUkqMj79E"
   },
   "outputs": [],
   "source": [
    "#boosting_classifier_using_entropy_criterion\n",
    "from sklearn.ensemble import AdaBoostClassifier\n",
    "from sklearn.tree import DecisionTreeClassifier\n",
    "base= DecisionTreeClassifier(criterion='entropy', random_state=0)\n",
    "adaboost_classifier = AdaBoostClassifier(base, n_estimators=10, random_state=0)\n",
    "adaboost_classifier.fit(X_train,y_train)\n",
    "y_pred_boost_en=adaboost_classifier.predict(X_test)\n"
   ]
  },
  {
   "cell_type": "code",
   "execution_count": 9,
   "metadata": {
    "id": "1CiCJTgGe_1s"
   },
   "outputs": [],
   "source": [
    "#decision_tree_classifier_using_gini_criterion\n",
    "dec_gn = DecisionTreeClassifier(criterion='gini', random_state=0)\n",
    "dec_gn.fit(X_train,y_train)\n",
    "y_pred_gn=dec_gn.predict(X_test)"
   ]
  },
  {
   "cell_type": "code",
   "execution_count": 10,
   "metadata": {
    "id": "tdTOrkM_gbd-"
   },
   "outputs": [],
   "source": [
    "#random_forest_classifier_using_gini_criterion\n",
    "from sklearn.ensemble import RandomForestClassifier\n",
    "rf_class = RandomForestClassifier(n_estimators=10, criterion='gini', random_state=0)\n",
    "rf_class.fit(X_train, y_train)\n",
    "y_pred_rf_gn = rf_class.predict(X_test)\n"
   ]
  },
  {
   "cell_type": "code",
   "execution_count": 11,
   "metadata": {
    "id": "q6Vrq7XOjYX3"
   },
   "outputs": [],
   "source": [
    "#bagging_classifier_using_gini_criterion\n",
    "from sklearn.ensemble import BaggingClassifier\n",
    "from sklearn.tree import DecisionTreeClassifier\n",
    "base_classifier = DecisionTreeClassifier(criterion='gini', random_state=0)\n",
    "bagging_class = BaggingClassifier(base_classifier, n_estimators=10, random_state=0)\n",
    "bagging_class.fit(X_train, y_train)\n",
    "y_pred_bag_gn= bagging_class.predict(X_test)"
   ]
  },
  {
   "cell_type": "code",
   "execution_count": 12,
   "metadata": {
    "id": "L3CbilRzou5L"
   },
   "outputs": [],
   "source": [
    "#boosting_classifier_using_gini_criterion\n",
    "from sklearn.ensemble import AdaBoostClassifier\n",
    "from sklearn.tree import DecisionTreeClassifier\n",
    "base_gn= DecisionTreeClassifier(criterion='gini', random_state=0)\n",
    "adaboost_class = AdaBoostClassifier(base_gn, n_estimators=10, random_state=0)\n",
    "adaboost_class.fit(X_train,y_train)\n",
    "y_pred_boost_gn=adaboost_class.predict(X_test)"
   ]
  },
  {
   "cell_type": "code",
   "execution_count": 13,
   "metadata": {
    "id": "eJUweeQjrH7E"
   },
   "outputs": [],
   "source": [
    "from sklearn.ensemble import VotingClassifier\n",
    "voting_classifier = VotingClassifier(\n",
    "    estimators=[\n",
    "        ('decision_tree_entropy', dec_en),\n",
    "        ('decision_tree_gini', dec_gn)\n",
    "    ],\n",
    "    voting='hard'\n",
    ")\n",
    "voting_classifier.fit(X_train, y_train)\n",
    "y_pred_votin = voting_classifier.predict(X_test)"
   ]
  },
  {
   "cell_type": "code",
   "execution_count": 14,
   "metadata": {
    "id": "YOArc3BesdB8"
   },
   "outputs": [],
   "source": [
    "#calculating_performances\n",
    "def calculate_metrics(y_true,y_pred):\n",
    "  from sklearn.metrics import accuracy_score, precision_score, recall_score, f1_score\n",
    "  accuracy = accuracy_score(y_true, y_pred)\n",
    "  precision = precision_score(y_true, y_pred)\n",
    "  recall = recall_score(y_true, y_pred)\n",
    "  f1 = f1_score(y_true, y_pred)\n",
    "  return accuracy,precision,recall,f1\n"
   ]
  },
  {
   "cell_type": "code",
   "execution_count": 15,
   "metadata": {
    "id": "yL3ZP3iLt4q9"
   },
   "outputs": [],
   "source": [
    "metrics={\n",
    "    \"technique\":[\"no_ensembling\",\"Random Forest\",\"Bagging\",\"Boosting\",],\n",
    "    \"accuracy\":[calculate_metrics(y_test,y_pred_dec_en)[0],calculate_metrics(y_test,y_pred_rf_en)[0],calculate_metrics(y_test,y_pred_bag_en)[0],calculate_metrics(y_test,y_pred_boost_en)[0]],\n",
    "    \"precision\":[calculate_metrics(y_test,y_pred_dec_en)[1],calculate_metrics(y_test,y_pred_rf_en)[1],calculate_metrics(y_test,y_pred_bag_en)[1],calculate_metrics(y_test,y_pred_boost_en)[1]],\n",
    "    \"recall\":[calculate_metrics(y_test,y_pred_dec_en)[2],calculate_metrics(y_test,y_pred_rf_en)[2],calculate_metrics(y_test,y_pred_bag_en)[2],calculate_metrics(y_test,y_pred_boost_en)[2]],\n",
    "    \"f1_score\":[calculate_metrics(y_test,y_pred_dec_en)[3],calculate_metrics(y_test,y_pred_rf_en)[3],calculate_metrics(y_test,y_pred_bag_en)[3],calculate_metrics(y_test,y_pred_boost_en)[3]]\n",
    "}"
   ]
  },
  {
   "cell_type": "code",
   "execution_count": 16,
   "metadata": {
    "id": "DCa5k77ww9Ja"
   },
   "outputs": [],
   "source": [
    "metrics_2={\n",
    "    \"technique\":[\"no_ensembling\",\"Random Forest\",\"Bagging\",\"Boosting\",],\n",
    "    \"accuracy\":[calculate_metrics(y_test,y_pred_gn)[0],calculate_metrics(y_test,y_pred_rf_gn)[0],calculate_metrics(y_test,y_pred_bag_gn)[0],calculate_metrics(y_test,y_pred_boost_gn)[0]],\n",
    "    \"precision\":[calculate_metrics(y_test,y_pred_gn)[1],calculate_metrics(y_test,y_pred_rf_gn)[1],calculate_metrics(y_test,y_pred_bag_gn)[1],calculate_metrics(y_test,y_pred_boost_gn)[1]],\n",
    "    \"recall\":[calculate_metrics(y_test,y_pred_gn)[2],calculate_metrics(y_test,y_pred_rf_gn)[2],calculate_metrics(y_test,y_pred_bag_gn)[2],calculate_metrics(y_test,y_pred_boost_gn)[2]],\n",
    "    \"f1_score\":[calculate_metrics(y_test,y_pred_gn)[3],calculate_metrics(y_test,y_pred_rf_gn)[3],calculate_metrics(y_test,y_pred_bag_gn)[3],calculate_metrics(y_test,y_pred_boost_gn)[3]]\n",
    "}"
   ]
  },
  {
   "cell_type": "code",
   "execution_count": 17,
   "metadata": {
    "id": "ShCewQ0-w6W-"
   },
   "outputs": [],
   "source": [
    "metrics_df=pd.DataFrame(metrics)\n",
    "metrics_2_df=pd.DataFrame(metrics_2)"
   ]
  },
  {
   "cell_type": "code",
   "execution_count": 18,
   "metadata": {
    "colab": {
     "base_uri": "https://localhost:8080/"
    },
    "id": "ODE5KbbIxt3C",
    "outputId": "f274f9a1-bab0-4aa3-b771-9aa784ba8259"
   },
   "outputs": [
    {
     "name": "stdout",
     "output_type": "stream",
     "text": [
      "decision tree using entropy criterion performance\n",
      "\n",
      "       technique  accuracy  precision   recall  f1_score\n",
      "0  no_ensembling      0.91   0.828571  0.90625  0.865672\n",
      "1  Random Forest      0.91   0.848485  0.87500  0.861538\n",
      "2        Bagging      0.91   0.870968  0.84375  0.857143\n",
      "3       Boosting      0.91   0.828571  0.90625  0.865672\n"
     ]
    }
   ],
   "source": [
    "print(\"decision tree using entropy criterion performance\\n\")\n",
    "print(metrics_df)"
   ]
  },
  {
   "cell_type": "code",
   "execution_count": 19,
   "metadata": {
    "colab": {
     "base_uri": "https://localhost:8080/"
    },
    "id": "EBHHWnAAyRNd",
    "outputId": "089b6084-9e5b-4346-aff5-b4755b68e4eb"
   },
   "outputs": [
    {
     "name": "stdout",
     "output_type": "stream",
     "text": [
      "decision tree using gini criterion performance\n",
      "\n",
      "       technique  accuracy  precision  recall  f1_score\n",
      "0  no_ensembling      0.90   0.823529   0.875  0.848485\n",
      "1  Random Forest      0.92   0.875000   0.875  0.875000\n",
      "2        Bagging      0.91   0.848485   0.875  0.861538\n",
      "3       Boosting      0.90   0.823529   0.875  0.848485\n"
     ]
    }
   ],
   "source": [
    "print(\"decision tree using gini criterion performance\\n\")\n",
    "print(metrics_2_df)"
   ]
  },
  {
   "cell_type": "code",
   "execution_count": 20,
   "metadata": {
    "colab": {
     "base_uri": "https://localhost:8080/"
    },
    "id": "VYineZM1ylou",
    "outputId": "9ca3a034-65d2-42f2-d830-25b6fcdf91db"
   },
   "outputs": [
    {
     "name": "stdout",
     "output_type": "stream",
     "text": [
      "performance using voting of gini and entropy criterion based decision tree\n",
      "\n",
      "   accuracy  precision   recall  f1_score\n",
      "0      0.89   0.818182  0.84375  0.830769\n"
     ]
    }
   ],
   "source": [
    "\n",
    "\n",
    "metrics_3={\"accuracy\":[calculate_metrics(y_test,y_pred_votin)[0]],\n",
    "           \"precision\":[calculate_metrics(y_test,y_pred_votin)[1]],\n",
    "           \"recall\":[calculate_metrics(y_test,y_pred_votin)[2]],\n",
    "           \"f1_score\":[calculate_metrics(y_test,y_pred_votin)[3]]}\n",
    "metrics_3_df=pd.DataFrame(metrics_3)\n",
    "print(\"performance using voting of gini and entropy criterion based decision tree\\n\")\n",
    "print(metrics_3_df)"
   ]
  }
 ],
 "metadata": {
  "colab": {
   "machine_shape": "hm",
   "provenance": []
  },
  "kernelspec": {
   "display_name": "Python 3 (ipykernel)",
   "language": "python",
   "name": "python3"
  },
  "language_info": {
   "codemirror_mode": {
    "name": "ipython",
    "version": 3
   },
   "file_extension": ".py",
   "mimetype": "text/x-python",
   "name": "python",
   "nbconvert_exporter": "python",
   "pygments_lexer": "ipython3",
   "version": "3.11.5"
  }
 },
 "nbformat": 4,
 "nbformat_minor": 4
}
