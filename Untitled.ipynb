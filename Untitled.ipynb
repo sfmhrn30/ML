{
 "cells": [
  {
   "cell_type": "code",
   "execution_count": 4,
   "id": "38652a18-290b-4578-b7b0-2d3847922a2d",
   "metadata": {},
   "outputs": [
    {
     "name": "stdin",
     "output_type": "stream",
     "text": [
      "When was python 1.0 released?  1994\n"
     ]
    },
    {
     "name": "stdout",
     "output_type": "stream",
     "text": [
      "Correct!\n"
     ]
    }
   ],
   "source": [
    "\n",
    "f=0\n",
    "while f==0  :\n",
    "    ans=int(input('When was python 1.0 released? '))\n",
    "    if ans<1994:\n",
    "        print('It\\'s a bit later')\n",
    "        continue\n",
    "    elif ans>1994:\n",
    "        print('It\\'s a bit earlier')\n",
    "        continue\n",
    "    else:\n",
    "        print('Correct!')\n",
    "        f=1\n",
    "        \n",
    "        "
   ]
  },
  {
   "cell_type": "code",
   "execution_count": null,
   "id": "2ed9c4dc-0172-40fe-ba12-27e9aad4ccc0",
   "metadata": {},
   "outputs": [],
   "source": []
  }
 ],
 "metadata": {
  "kernelspec": {
   "display_name": "Python 3 (ipykernel)",
   "language": "python",
   "name": "python3"
  },
  "language_info": {
   "codemirror_mode": {
    "name": "ipython",
    "version": 3
   },
   "file_extension": ".py",
   "mimetype": "text/x-python",
   "name": "python",
   "nbconvert_exporter": "python",
   "pygments_lexer": "ipython3",
   "version": "3.11.5"
  }
 },
 "nbformat": 4,
 "nbformat_minor": 5
}
