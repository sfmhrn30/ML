{
 "cells": [
  {
   "cell_type": "code",
   "execution_count": 2,
   "id": "d7311c85-3be8-4f94-9310-33917d7b552f",
   "metadata": {},
   "outputs": [
    {
     "name": "stdout",
     "output_type": "stream",
     "text": [
      "[[1 2 3]\n",
      " [4 5 6]]\n",
      "(2, 3)\n",
      "2\n",
      "7\n",
      "-1\n",
      "12\n",
      "0.75\n",
      "3\n",
      "81\n",
      "3\n",
      "(0, 3)\n"
     ]
    }
   ],
   "source": [
    "#2-D array\n",
    "import numpy as np\n",
    "A=np.array([[1,2,3],[4,5,6]])\n",
    "print(A)\n",
    "print(A.shape)\n",
    "print(A.ndim)\n",
    "l=A[0][2]\n",
    "m=A[1][0]\n",
    "print(np.add(l,m))\n",
    "print(np.subtract(l,m))\n",
    "print(np.multiply(l,m))\n",
    "print(np.divide(l,m))\n",
    "print(np.remainder(l,m))\n",
    "print(np.power(l,m))\n",
    "print(np.mod(l,m))\n",
    "print(np.divmod(l,m))"
   ]
  },
  {
   "cell_type": "code",
   "execution_count": 3,
   "id": "3a22c3d3-9916-4f6b-bc69-e0c592491b0f",
   "metadata": {},
   "outputs": [
    {
     "name": "stdout",
     "output_type": "stream",
     "text": [
      "[[[1 2 3]]\n",
      "\n",
      " [[4 5 6]]]\n",
      "(2, 1, 3)\n",
      "3\n",
      "7\n",
      "-1\n",
      "12\n",
      "0.75\n",
      "3\n",
      "81\n",
      "3\n",
      "(0, 3)\n"
     ]
    }
   ],
   "source": [
    "#3-D array\n",
    "import numpy as np\n",
    "B=np.array([[[1,2,3]],[[4,5,6]]])\n",
    "print(B)\n",
    "print(B.shape)\n",
    "print(B.ndim)\n",
    "l=B[0][0][2]\n",
    "m=B[1][0][0]\n",
    "print(np.add(l,m))\n",
    "print(np.subtract(l,m))\n",
    "print(np.multiply(l,m))\n",
    "print(np.divide(l,m))\n",
    "print(np.remainder(l,m))\n",
    "print(np.power(l,m))\n",
    "print(np.mod(l,m))\n",
    "print(np.divmod(l,m))"
   ]
  },
  {
   "cell_type": "code",
   "execution_count": 15,
   "id": "30399f78-8ee9-422f-bced-802426ed0930",
   "metadata": {},
   "outputs": [
    {
     "name": "stdout",
     "output_type": "stream",
     "text": [
      "[[  1   5   3   1   0  -1]\n",
      " [  2   4   3   1   0  -1]\n",
      " [  3   4   3   1   0  -1]\n",
      " [  4   4   3   1   0  -1]\n",
      " [  5   5   3   1   0  -1]\n",
      " [  6   5   3   1   0  -1]\n",
      " [  7   4   3   1   0  -1]\n",
      " [  8   5   3   1   0  -1]\n",
      " [  9   4   2   1   0  -1]\n",
      " [ 10   4   3   1   0  -1]\n",
      " [ 11   5   3   1   0  -1]\n",
      " [ 12   4   3   1   0  -1]\n",
      " [ 13   4   3   1   0  -1]\n",
      " [ 14   4   3   1   0  -1]\n",
      " [ 15   5   4   1   0  -1]\n",
      " [ 16   5   4   1   0  -1]\n",
      " [ 17   5   3   1   0  -1]\n",
      " [ 18   5   3   1   0  -1]\n",
      " [ 19   5   3   1   0  -1]\n",
      " [ 20   5   3   1   0  -1]\n",
      " [ 21   5   3   1   0  -1]\n",
      " [ 22   5   3   1   0  -1]\n",
      " [ 23   4   3   1   0  -1]\n",
      " [ 24   5   3   1   0  -1]\n",
      " [ 25   4   3   1   0  -1]\n",
      " [ 26   5   3   1   0  -1]\n",
      " [ 27   5   3   1   0  -1]\n",
      " [ 28   5   3   1   0  -1]\n",
      " [ 29   5   3   1   0  -1]\n",
      " [ 30   4   3   1   0  -1]\n",
      " [ 31   4   3   1   0  -1]\n",
      " [ 32   5   3   1   0  -1]\n",
      " [ 33   5   4   1   0  -1]\n",
      " [ 34   5   4   1   0  -1]\n",
      " [ 35   4   3   1   0  -1]\n",
      " [ 36   5   3   1   0  -1]\n",
      " [ 37   5   3   1   0  -1]\n",
      " [ 38   4   3   1   0  -1]\n",
      " [ 39   4   3   1   0  -1]\n",
      " [ 40   5   3   1   0  -1]\n",
      " [ 41   5   3   1   0  -1]\n",
      " [ 42   4   2   1   0  -1]\n",
      " [ 43   4   3   1   0  -1]\n",
      " [ 44   5   3   1   0  -1]\n",
      " [ 45   5   3   1   0  -1]\n",
      " [ 46   4   3   1   0  -1]\n",
      " [ 47   5   3   1   0  -1]\n",
      " [ 48   4   3   1   0  -1]\n",
      " [ 49   5   3   1   0  -1]\n",
      " [ 50   5   3   1   0  -1]\n",
      " [ 51   7   3   4   1  -1]\n",
      " [ 52   6   3   4   1  -1]\n",
      " [ 53   6   3   4   1  -1]\n",
      " [ 54   5   2   4   1  -1]\n",
      " [ 55   6   2   4   1  -1]\n",
      " [ 56   5   2   4   1  -1]\n",
      " [ 57   6   3   4   1  -1]\n",
      " [ 58   4   2   3   1  -1]\n",
      " [ 59   6   2   4   1  -1]\n",
      " [ 60   5   2   3   1  -1]\n",
      " [ 61   5   2   3   1  -1]\n",
      " [ 62   5   3   4   1  -1]\n",
      " [ 63   6   2   4   1  -1]\n",
      " [ 64   6   2   4   1  -1]\n",
      " [ 65   5   2   3   1  -1]\n",
      " [ 66   6   3   4   1  -1]\n",
      " [ 67   5   3   4   1  -1]\n",
      " [ 68   5   2   4   1  -1]\n",
      " [ 69   6   2   4   1  -1]\n",
      " [ 70   5   2   3   1  -1]\n",
      " [ 71   5   3   4   1  -1]\n",
      " [ 72   6   2   4   1  -1]\n",
      " [ 73   6   2   4   1  -1]\n",
      " [ 74   6   2   4   1  -1]\n",
      " [ 75   6   2   4   1  -1]\n",
      " [ 76   6   3   4   1  -1]\n",
      " [ 77   6   2   4   1  -1]\n",
      " [ 78   6   3   5   1  -1]\n",
      " [ 79   6   2   4   1  -1]\n",
      " [ 80   5   2   3   1  -1]\n",
      " [ 81   5   2   3   1  -1]\n",
      " [ 82   5   2   3   1  -1]\n",
      " [ 83   5   2   3   1  -1]\n",
      " [ 84   6   2   5   1  -1]\n",
      " [ 85   5   3   4   1  -1]\n",
      " [ 86   6   3   4   1  -1]\n",
      " [ 87   6   3   4   1  -1]\n",
      " [ 88   6   2   4   1  -1]\n",
      " [ 89   5   3   4   1  -1]\n",
      " [ 90   5   2   4   1  -1]\n",
      " [ 91   5   2   4   1  -1]\n",
      " [ 92   6   3   4   1  -1]\n",
      " [ 93   5   2   4   1  -1]\n",
      " [ 94   5   2   3   1  -1]\n",
      " [ 95   5   2   4   1  -1]\n",
      " [ 96   5   3   4   1  -1]\n",
      " [ 97   5   2   4   1  -1]\n",
      " [ 98   6   2   4   1  -1]\n",
      " [ 99   5   2   3   1  -1]\n",
      " [100   5   2   4   1  -1]\n",
      " [101   6   3   6   2  -1]\n",
      " [102   5   2   5   1  -1]\n",
      " [103   7   3   5   2  -1]\n",
      " [104   6   2   5   1  -1]\n",
      " [105   6   3   5   2  -1]\n",
      " [106   7   3   6   2  -1]\n",
      " [107   4   2   4   1  -1]\n",
      " [108   7   2   6   1  -1]\n",
      " [109   6   2   5   1  -1]\n",
      " [110   7   3   6   2  -1]\n",
      " [111   6   3   5   2  -1]\n",
      " [112   6   2   5   1  -1]\n",
      " [113   6   3   5   2  -1]\n",
      " [114   5   2   5   2  -1]\n",
      " [115   5   2   5   2  -1]\n",
      " [116   6   3   5   2  -1]\n",
      " [117   6   3   5   1  -1]\n",
      " [118   7   3   6   2  -1]\n",
      " [119   7   2   6   2  -1]\n",
      " [120   6   2   5   1  -1]\n",
      " [121   6   3   5   2  -1]\n",
      " [122   5   2   4   2  -1]\n",
      " [123   7   2   6   2  -1]\n",
      " [124   6   2   4   1  -1]\n",
      " [125   6   3   5   2  -1]\n",
      " [126   7   3   6   1  -1]\n",
      " [127   6   2   4   1  -1]\n",
      " [128   6   3   4   1  -1]\n",
      " [129   6   2   5   2  -1]\n",
      " [130   7   3   5   1  -1]\n",
      " [131   7   2   6   1  -1]\n",
      " [132   7   3   6   2  -1]\n",
      " [133   6   2   5   2  -1]\n",
      " [134   6   2   5   1  -1]\n",
      " [135   6   2   5   1  -1]\n",
      " [136   7   3   6   2  -1]\n",
      " [137   6   3   5   2  -1]\n",
      " [138   6   3   5   1  -1]\n",
      " [139   6   3   4   1  -1]\n",
      " [140   6   3   5   2  -1]\n",
      " [141   6   3   5   2  -1]\n",
      " [142   6   3   5   2  -1]\n",
      " [143   5   2   5   1  -1]\n",
      " [144   6   3   5   2  -1]\n",
      " [145   6   3   5   2  -1]\n",
      " [146   6   3   5   2  -1]\n",
      " [147   6   2   5   1  -1]\n",
      " [148   6   3   5   2  -1]\n",
      " [149   6   3   5   2  -1]\n",
      " [150   5   3   5   1  -1]]\n"
     ]
    }
   ],
   "source": [
    "import numpy as np\n",
    "iris=np.genfromtxt('C:\\\\Users\\\\CSELAB12\\\\Desktop\\\\Safa020\\\\Iris.csv',\n",
    "                   skip_header=1,delimiter=',',dtype=int)\n",
    "print(iris)"
   ]
  },
  {
   "cell_type": "code",
   "execution_count": 23,
   "id": "35d83de3-9488-403b-ab62-f4c68b262f5f",
   "metadata": {},
   "outputs": [
    {
     "name": "stdout",
     "output_type": "stream",
     "text": [
      "size 900\n",
      "2\n"
     ]
    }
   ],
   "source": [
    "print('size',np.size(iris))\n",
    "print(np.ndim(iris))"
   ]
  },
  {
   "cell_type": "code",
   "execution_count": 29,
   "id": "0a776a49-3a6e-4cc0-969c-e932c552f712",
   "metadata": {},
   "outputs": [
    {
     "name": "stdout",
     "output_type": "stream",
     "text": [
      "minimum value rowwise: [-1 -1 -1 -1 -1 -1 -1 -1 -1 -1 -1 -1 -1 -1 -1 -1 -1 -1 -1 -1 -1 -1 -1 -1\n",
      " -1 -1 -1 -1 -1 -1 -1 -1 -1 -1 -1 -1 -1 -1 -1 -1 -1 -1 -1 -1 -1 -1 -1 -1\n",
      " -1 -1 -1 -1 -1 -1 -1 -1 -1 -1 -1 -1 -1 -1 -1 -1 -1 -1 -1 -1 -1 -1 -1 -1\n",
      " -1 -1 -1 -1 -1 -1 -1 -1 -1 -1 -1 -1 -1 -1 -1 -1 -1 -1 -1 -1 -1 -1 -1 -1\n",
      " -1 -1 -1 -1 -1 -1 -1 -1 -1 -1 -1 -1 -1 -1 -1 -1 -1 -1 -1 -1 -1 -1 -1 -1\n",
      " -1 -1 -1 -1 -1 -1 -1 -1 -1 -1 -1 -1 -1 -1 -1 -1 -1 -1 -1 -1 -1 -1 -1 -1\n",
      " -1 -1 -1 -1 -1 -1]\n",
      "minimum value columnwise: [ 1  4  2  1  0 -1]\n"
     ]
    }
   ],
   "source": [
    "print('minimum value rowwise:',iris.min(axis=1))\n",
    "print('minimum value columnwise:',iris.min(axis=0))"
   ]
  },
  {
   "cell_type": "code",
   "execution_count": 30,
   "id": "31a468a2-95a2-4554-adcc-b29bedaddaa0",
   "metadata": {},
   "outputs": [
    {
     "name": "stdout",
     "output_type": "stream",
     "text": [
      "max value rowwiese: [  5   4   4   4   5   6   7   8   9  10  11  12  13  14  15  16  17  18\n",
      "  19  20  21  22  23  24  25  26  27  28  29  30  31  32  33  34  35  36\n",
      "  37  38  39  40  41  42  43  44  45  46  47  48  49  50  51  52  53  54\n",
      "  55  56  57  58  59  60  61  62  63  64  65  66  67  68  69  70  71  72\n",
      "  73  74  75  76  77  78  79  80  81  82  83  84  85  86  87  88  89  90\n",
      "  91  92  93  94  95  96  97  98  99 100 101 102 103 104 105 106 107 108\n",
      " 109 110 111 112 113 114 115 116 117 118 119 120 121 122 123 124 125 126\n",
      " 127 128 129 130 131 132 133 134 135 136 137 138 139 140 141 142 143 144\n",
      " 145 146 147 148 149 150]\n",
      "max value columnwiese: [150   7   4   6   2  -1]\n"
     ]
    }
   ],
   "source": [
    "print('max value rowwiese:',iris.max(axis=1))\n",
    "print('max value columnwiese:',iris.max(axis=0))"
   ]
  },
  {
   "cell_type": "code",
   "execution_count": 34,
   "id": "7eb81598-e3fd-46e9-bf84-ed2bf1085626",
   "metadata": {},
   "outputs": [
    {
     "name": "stdout",
     "output_type": "stream",
     "text": [
      "sum col: [11325   808   397   496   129  -150]\n",
      "sum row: [  9   9  10  11  13  14  14  16  15  17  19  19  20  21  24  25  25  26\n",
      "  27  28  29  30  30  32  32  34  35  36  37  37  38  40  42  43  42  44\n",
      "  45  45  46  48  49  48  50  52  53  53  55  55  57  58  65  65  66  65\n",
      "  67  67  70  67  71  70  71  74  75  76  75  79  79  79  81  80  83  84\n",
      "  85  86  87  89  89  92  91  90  91  92  93  97  97  99 100 100 101 101\n",
      " 102 105 104 104 106 108 108 110 109 111 117 114 119 117 120 123 117 123\n",
      " 122 127 126 125 128 127 128 131 131 135 135 133 136 134 139 136 140 142\n",
      " 139 141 143 145 146 149 147 147 148 153 152 152 152 155 156 157 155 159\n",
      " 160 161 160 163 164 163]\n",
      "sum: 13005\n"
     ]
    }
   ],
   "source": [
    "print('sum col:',np.sum(iris,axis=0))\n",
    "print('sum row:',np.sum(iris,axis=1))\n",
    "print('sum:',np.sum(iris))"
   ]
  },
  {
   "cell_type": "code",
   "execution_count": 36,
   "id": "976a24d7-40da-46b5-aede-121ead74a9a8",
   "metadata": {},
   "outputs": [
    {
     "name": "stdout",
     "output_type": "stream",
     "text": [
      "mean row: [ 1.5         1.5         1.66666667  1.83333333  2.16666667  2.33333333\n",
      "  2.33333333  2.66666667  2.5         2.83333333  3.16666667  3.16666667\n",
      "  3.33333333  3.5         4.          4.16666667  4.16666667  4.33333333\n",
      "  4.5         4.66666667  4.83333333  5.          5.          5.33333333\n",
      "  5.33333333  5.66666667  5.83333333  6.          6.16666667  6.16666667\n",
      "  6.33333333  6.66666667  7.          7.16666667  7.          7.33333333\n",
      "  7.5         7.5         7.66666667  8.          8.16666667  8.\n",
      "  8.33333333  8.66666667  8.83333333  8.83333333  9.16666667  9.16666667\n",
      "  9.5         9.66666667 10.83333333 10.83333333 11.         10.83333333\n",
      " 11.16666667 11.16666667 11.66666667 11.16666667 11.83333333 11.66666667\n",
      " 11.83333333 12.33333333 12.5        12.66666667 12.5        13.16666667\n",
      " 13.16666667 13.16666667 13.5        13.33333333 13.83333333 14.\n",
      " 14.16666667 14.33333333 14.5        14.83333333 14.83333333 15.33333333\n",
      " 15.16666667 15.         15.16666667 15.33333333 15.5        16.16666667\n",
      " 16.16666667 16.5        16.66666667 16.66666667 16.83333333 16.83333333\n",
      " 17.         17.5        17.33333333 17.33333333 17.66666667 18.\n",
      " 18.         18.33333333 18.16666667 18.5        19.5        19.\n",
      " 19.83333333 19.5        20.         20.5        19.5        20.5\n",
      " 20.33333333 21.16666667 21.         20.83333333 21.33333333 21.16666667\n",
      " 21.33333333 21.83333333 21.83333333 22.5        22.5        22.16666667\n",
      " 22.66666667 22.33333333 23.16666667 22.66666667 23.33333333 23.66666667\n",
      " 23.16666667 23.5        23.83333333 24.16666667 24.33333333 24.83333333\n",
      " 24.5        24.5        24.66666667 25.5        25.33333333 25.33333333\n",
      " 25.33333333 25.83333333 26.         26.16666667 25.83333333 26.5\n",
      " 26.66666667 26.83333333 26.66666667 27.16666667 27.33333333 27.16666667]\n",
      "mean col: [75.5         5.38666667  2.64666667  3.30666667  0.86       -1.        ]\n",
      "mean: 14.45\n"
     ]
    }
   ],
   "source": [
    "print('mean row:',np.mean(iris,axis=1))\n",
    "print('mean col:',np.mean(iris,axis=0))\n",
    "print('mean:',np.mean(iris))"
   ]
  },
  {
   "cell_type": "code",
   "execution_count": 38,
   "id": "909f4d50-5283-41e3-833d-86775123d2be",
   "metadata": {},
   "outputs": [
    {
     "name": "stdout",
     "output_type": "stream",
     "text": [
      "median row: [1.  1.5 2.  2.  2.  2.  2.  2.  1.5 2.  2.  2.  2.  2.  2.5 2.5 2.  2.\n",
      " 2.  2.  2.  2.  2.  2.  2.  2.  2.  2.  2.  2.  2.  2.  2.5 2.5 2.  2.\n",
      " 2.  2.  2.  2.  2.  1.5 2.  2.  2.  2.  2.  2.  2.  2.  3.5 3.5 3.5 3.\n",
      " 3.  3.  3.5 2.5 3.  2.5 2.5 3.5 3.  3.  2.5 3.5 3.5 3.  3.  2.5 3.5 3.\n",
      " 3.  3.  3.  3.5 3.  4.  3.  2.5 2.5 2.5 2.5 3.5 3.5 3.5 3.5 3.  3.5 3.\n",
      " 3.  3.5 3.  2.5 3.  3.5 3.  3.  2.5 3.  4.5 3.5 4.  3.5 4.  4.5 3.  4.\n",
      " 3.5 4.5 4.  3.5 4.  3.5 3.5 4.  4.  4.5 4.  3.5 4.  3.  4.  3.  4.  4.5\n",
      " 3.  3.5 3.5 4.  4.  4.5 3.5 3.5 3.5 4.5 4.  4.  3.5 4.  4.  4.  3.5 4.\n",
      " 4.  4.  3.5 4.  4.  4. ]\n",
      "median col: [75.5  5.   3.   4.   1.  -1. ]\n",
      "median: 3.0\n"
     ]
    }
   ],
   "source": [
    "print('median row:',np.median(iris,axis=1))\n",
    "print('median col:',np.median(iris,axis=0))\n",
    "print('median:',np.median(iris))"
   ]
  },
  {
   "cell_type": "code",
   "execution_count": null,
   "id": "3f2fe7e5-7096-4514-840c-d820076b358e",
   "metadata": {},
   "outputs": [],
   "source": [
    "print('median row:',np.median(iris,axis=1))\n",
    "print('median col:',np.median(iris,axis=0))\n",
    "print('median:',np.median(iris))"
   ]
  },
  {
   "cell_type": "code",
   "execution_count": 4,
   "id": "9be494c7-91cf-4641-b014-a84fdcaa998d",
   "metadata": {},
   "outputs": [
    {
     "name": "stdout",
     "output_type": "stream",
     "text": [
      "mode row: ModeResult(mode=array([ 1, -1,  3,  4,  5, -1, -1, -1, -1, -1, -1, -1, -1, -1, -1, -1, -1,\n",
      "       -1, -1, -1, -1, -1, -1, -1, -1, -1, -1, -1, -1, -1, -1, -1, -1, -1,\n",
      "       -1, -1, -1, -1, -1, -1, -1, -1, -1, -1, -1, -1, -1, -1, -1, -1, -1,\n",
      "       -1, -1, -1, -1, -1, -1, -1, -1, -1, -1, -1, -1, -1, -1, -1, -1, -1,\n",
      "       -1, -1, -1, -1, -1, -1, -1, -1, -1, -1, -1, -1, -1, -1, -1, -1, -1,\n",
      "       -1, -1, -1, -1, -1, -1, -1, -1, -1, -1, -1, -1, -1, -1, -1,  6,  5,\n",
      "       -1, -1, -1, -1,  4, -1, -1, -1, -1, -1, -1,  2,  2, -1, -1, -1,  2,\n",
      "       -1, -1,  2,  2, -1, -1, -1, -1, -1,  2, -1, -1, -1,  2, -1, -1, -1,\n",
      "       -1, -1, -1, -1, -1, -1,  5, -1, -1, -1, -1, -1, -1,  5],\n",
      "      dtype=int64), count=array([2, 1, 2, 2, 2, 1, 1, 1, 1, 1, 1, 1, 1, 1, 1, 1, 1, 1, 1, 1, 1, 1,\n",
      "       1, 1, 1, 1, 1, 1, 1, 1, 1, 1, 1, 1, 1, 1, 1, 1, 1, 1, 1, 1, 1, 1,\n",
      "       1, 1, 1, 1, 1, 1, 1, 1, 1, 1, 1, 1, 1, 1, 1, 1, 1, 1, 1, 1, 1, 1,\n",
      "       1, 1, 1, 1, 1, 1, 1, 1, 1, 1, 1, 1, 1, 1, 1, 1, 1, 1, 1, 1, 1, 1,\n",
      "       1, 1, 1, 1, 1, 1, 1, 1, 1, 1, 1, 1, 2, 2, 1, 1, 1, 1, 2, 1, 1, 1,\n",
      "       1, 1, 1, 2, 2, 1, 1, 1, 2, 1, 1, 2, 2, 1, 1, 1, 1, 1, 2, 1, 1, 1,\n",
      "       2, 1, 1, 1, 1, 1, 1, 1, 1, 1, 2, 1, 1, 1, 1, 1, 1, 2], dtype=int64))\n",
      "mode col: ModeResult(mode=array([ 1,  5,  3,  1,  1, -1], dtype=int64), count=array([  1,  61,  89,  50,  71, 150], dtype=int64))\n",
      "mode: ModeResult(mode=array([ 1,  5,  3,  1,  1, -1], dtype=int64), count=array([  1,  61,  89,  50,  71, 150], dtype=int64))\n"
     ]
    }
   ],
   "source": [
    "from scipy import stats as st\n",
    "import numpy as np\n",
    "import numpy as np\n",
    "iris=np.genfromtxt('C:\\\\Users\\\\CSELAB12\\\\Desktop\\\\Safa020\\\\Iris.csv',\n",
    "                   skip_header=1,delimiter=',',dtype=int)\n",
    "print('mode row:',st.mode(iris,axis=1))\n",
    "print('mode col:',st.mode(iris,axis=0))\n",
    "print('mode:',st.mode(iris))"
   ]
  },
  {
   "cell_type": "code",
   "execution_count": 6,
   "id": "7d06ef76-8620-4d9f-884d-0a5912e9342f",
   "metadata": {},
   "outputs": [
    {
     "name": "stdout",
     "output_type": "stream",
     "text": [
      "variance row: [3.91666667e+00 2.91666667e+00 3.22222222e+00 3.80555556e+00\n",
      " 5.47222222e+00 6.55555556e+00 7.22222222e+00 9.55555556e+00\n",
      " 1.09166667e+01 1.31388889e+01 1.61388889e+01 1.84722222e+01\n",
      " 2.15555556e+01 2.49166667e+01 2.86666667e+01 3.24722222e+01\n",
      " 3.68055556e+01 4.12222222e+01 4.59166667e+01 5.08888889e+01\n",
      " 5.61388889e+01 6.16666667e+01 6.76666667e+01 7.35555556e+01\n",
      " 8.02222222e+01 8.65555556e+01 9.34722222e+01 1.00666667e+02\n",
      " 1.08138889e+02 1.16472222e+02 1.24555556e+02 1.32222222e+02\n",
      " 1.39666667e+02 1.48472222e+02 1.59666667e+02 1.68222222e+02\n",
      " 1.77916667e+02 1.88916667e+02 1.99222222e+02 2.08666667e+02\n",
      " 2.19472222e+02 2.33666667e+02 2.43222222e+02 2.53555556e+02\n",
      " 2.65472222e+02 2.79138889e+02 2.90138889e+02 3.04472222e+02\n",
      " 3.15916667e+02 3.29222222e+02 3.28805556e+02 3.43805556e+02\n",
      " 3.57666667e+02 3.76472222e+02 3.89138889e+02 4.05805556e+02\n",
      " 4.15888889e+02 4.41138889e+02 4.49805556e+02 4.70555556e+02\n",
      " 4.86805556e+02 4.97222222e+02 5.14916667e+02 5.31888889e+02\n",
      " 5.54583333e+02 5.63138889e+02 5.83472222e+02 6.05138889e+02\n",
      " 6.20916667e+02 6.45555556e+02 6.57472222e+02 6.77666667e+02\n",
      " 6.97138889e+02 7.16888889e+02 7.36916667e+02 7.53138889e+02\n",
      " 7.77805556e+02 7.90888889e+02 8.19805556e+02 8.48333333e+02\n",
      " 8.70138889e+02 8.92222222e+02 9.14583333e+02 9.25805556e+02\n",
      " 9.51472222e+02 9.70916667e+02 9.94222222e+02 1.02255556e+03\n",
      " 1.04547222e+03 1.07447222e+03 1.09900000e+03 1.11491667e+03\n",
      " 1.14888889e+03 1.17888889e+03 1.19988889e+03 1.22066667e+03\n",
      " 1.25200000e+03 1.27422222e+03 1.31013889e+03 1.33225000e+03\n",
      " 1.33425000e+03 1.38233333e+03 1.38947222e+03 1.43358333e+03\n",
      " 1.45000000e+03 1.46891667e+03 1.53425000e+03 1.53891667e+03\n",
      " 1.57788889e+03 1.58513889e+03 1.62500000e+03 1.66780556e+03\n",
      " 1.68555556e+03 1.72780556e+03 1.75888889e+03 1.77847222e+03\n",
      " 1.81680556e+03 1.83091667e+03 1.86958333e+03 1.91980556e+03\n",
      " 1.93888889e+03 1.99022222e+03 2.00047222e+03 2.05855556e+03\n",
      " 2.07222222e+03 2.10188889e+03 2.16113889e+03 2.18891667e+03\n",
      " 2.21713889e+03 2.24680556e+03 2.28322222e+03 2.30380556e+03\n",
      " 2.35958333e+03 2.40358333e+03 2.44022222e+03 2.44891667e+03\n",
      " 2.49888889e+03 2.54422222e+03 2.58888889e+03 2.61180556e+03\n",
      " 2.65000000e+03 2.68847222e+03 2.75013889e+03 2.76625000e+03\n",
      " 2.80555556e+03 2.84513889e+03 2.90155556e+03 2.92513889e+03\n",
      " 2.96555556e+03 3.02213889e+03]\n",
      "variance col: [1.87491667e+03 7.03822222e-01 2.81822222e-01 3.11928889e+00\n",
      " 5.07066667e-01 0.00000000e+00]\n",
      "variance: 1062.6097222222222\n"
     ]
    }
   ],
   "source": [
    "print('variance row:',np.var(iris,axis=1))\n",
    "print('variance col:',np.var(iris,axis=0))\n",
    "print('variance:',np.var(iris))"
   ]
  },
  {
   "cell_type": "code",
   "execution_count": 7,
   "id": "eed90a07-ac91-44e4-b82a-a52e570924d8",
   "metadata": {},
   "outputs": [
    {
     "name": "stdout",
     "output_type": "stream",
     "text": [
      "standard dev row: [ 1.97905701  1.70782513  1.79505494  1.95078332  2.33927814  2.56038192\n",
      "  2.68741925  3.09120617  3.30403793  3.62476053  4.0173236   4.29793232\n",
      "  4.64279609  4.99165971  5.35412613  5.69844033  6.06675824  6.42045343\n",
      "  6.77618378  7.13364485  7.49258893  7.85281266  8.22597512  8.57645355\n",
      "  8.9566859   9.30352382  9.66810334 10.03327796 10.39898499 10.79222972\n",
      " 11.16044603 11.49879221 11.81806527 12.18491782 12.63592761 12.97005097\n",
      " 13.33854065 13.74469595 14.11461024 14.44529912 14.81459491 15.28615932\n",
      " 15.59558342 15.92342788 16.29331833 16.7074501  17.0334638  17.44913242\n",
      " 17.77404475 18.14448187 18.13299632 18.54199438 18.91207727 19.40289211\n",
      " 19.72660358 20.14461604 20.39335404 21.00330662 21.20861984 21.69229254\n",
      " 22.06367049 22.29848027 22.69177531 23.06271642 23.54959306 23.73054759\n",
      " 24.15516968 24.59957091 24.91819951 25.40778533 25.64122115 26.03203155\n",
      " 26.40338783 26.77478084 27.14620907 27.44337605 27.88916556 28.12274682\n",
      " 28.63224678 29.12616235 29.4981167  29.87008909 30.24207885 30.42705302\n",
      " 30.84594337 31.15953573 31.53128957 31.97742259 32.33376288 32.7791431\n",
      " 33.15116891 33.39036787 33.89526352 34.33495142 34.63941236 34.9380404\n",
      " 35.38361203 35.69624941 36.19584077 36.5        36.52738699 37.17974359\n",
      " 37.27562504 37.86269052 38.07886553 38.32644866 39.16950344 39.22902837\n",
      " 39.72264957 39.81380274 40.31128874 40.83877515 41.05551797 41.56688051\n",
      " 41.9391093  42.17193643 42.62400211 42.78921204 43.23867867 43.81558576\n",
      " 44.03281605 44.61190673 44.72663884 45.37130762 45.52166761 45.84636178\n",
      " 46.48805103 46.78585969 47.08650432 47.40048054 47.78307464 47.99797449\n",
      " 48.57554254 49.02635346 49.39860547 49.48653015 49.98888765 50.44028372\n",
      " 50.88112507 51.10582702 51.4781507  51.85047948 52.44176665 52.59515187\n",
      " 52.96749527 53.33984335 53.86608911 54.08455314 54.45691467 54.97398375]\n",
      "standard dev col: [43.30030793  0.83894113  0.53086931  1.76615087  0.71208614  0.        ]\n",
      "standard dev: 32.597695044622746\n"
     ]
    }
   ],
   "source": [
    "print('standard dev row:',np.std(iris,axis=1))\n",
    "print('standard dev col:',np.std(iris,axis=0))\n",
    "print('standard dev:',np.std(iris))"
   ]
  },
  {
   "cell_type": "code",
   "execution_count": 9,
   "id": "4af665d9-fb27-41d5-89bc-647c27d0b77d",
   "metadata": {},
   "outputs": [
    {
     "name": "stdout",
     "output_type": "stream",
     "text": [
      "64.25\n"
     ]
    }
   ],
   "source": [
    "#percentile\n",
    "import numpy as np\n",
    "age=[45,32,14,25,84,26,95,17,75,63,52,43,84,49,47,58,57,68,62,45]\n",
    "x=np.percentile(age,75)\n",
    "print(x)"
   ]
  },
  {
   "cell_type": "code",
   "execution_count": 10,
   "id": "e73c13a1-b18e-44e0-8c28-263a4cfd7d3b",
   "metadata": {},
   "outputs": [
    {
     "name": "stdout",
     "output_type": "stream",
     "text": [
      "[1.66528444 1.21523002 2.55869921 3.79383228 1.7048388  1.36187173\n",
      " 4.59967552 0.67564697 4.03398102 3.05304602 4.16411065 4.38012275\n",
      " 3.33944633 1.54036066 2.66275409 0.5154551  1.95785328 4.09283108\n",
      " 2.04151168 3.5562062  1.67213283 3.14310068 1.97731042 2.89082785\n",
      " 0.11969312 3.80395089 2.55342896 4.40175839 1.73413003 0.92843517\n",
      " 4.17784557 4.09301341 4.44614931 1.45823581 0.36009577 0.46165053\n",
      " 2.47640021 4.06103197 1.30893485 3.94806164 2.16093882 0.87993254\n",
      " 3.85597539 0.75282558 2.72891393 3.57242986 0.43180575 0.17510324\n",
      " 3.7820061  1.04493391 4.92866963 1.29702317 2.98825535 1.30483883\n",
      " 1.51235327 2.85790247 0.22175857 4.81110357 1.81798151 3.29788507\n",
      " 0.85458368 3.52482361 4.34433104 4.78149796 4.82754405 1.93754614\n",
      " 3.9459187  3.12036764 3.48058084 3.85206252 4.90713121 2.66041662\n",
      " 1.09305945 2.56218337 2.01728704 0.24504849 3.21169452 1.68240101\n",
      " 3.85531822 2.58858221 2.63981076 4.61422732 1.80258402 3.97144491\n",
      " 2.34295937 0.14496627 2.74207448 2.42473389 2.93877477 2.1161662\n",
      " 4.59412818 2.48617576 0.50321    0.36771634 4.21522035 1.3073272\n",
      " 2.99299003 2.57712875 1.09719789 2.2512678  1.79400645 4.71238928\n",
      " 3.62583841 1.07817312 4.74944327 3.45780282 1.30082146 4.07849994\n",
      " 4.67531803 1.76377828 4.01256309 3.86148827 2.99168037 2.82476395\n",
      " 0.72395245 4.62163294 4.65608887 1.11043339 0.86588204 2.63962301\n",
      " 1.08740288 0.38977955 0.86969253 4.27619669 0.0607994  3.97414521\n",
      " 0.87454718 0.10872652 1.28242287 2.86487894 1.37095502 3.07026986\n",
      " 3.53683333 0.69099177 3.76583705 2.74839185 0.11492531 4.00424011\n",
      " 1.87952853 1.4915028  2.64721585 4.57270989 4.96041434 3.5125798\n",
      " 3.63428671 0.31506799 3.68306021 1.13473718 3.24388458 1.33126794\n",
      " 1.38414156 0.80192903 1.68633077 3.37600773 3.82907895 4.18465134\n",
      " 3.03080678 0.71652393 2.78708519 1.45050552 4.62351336 2.36171538\n",
      " 3.64418334 0.27702055 1.33163706 1.48650447 2.71637507 4.52300968\n",
      " 4.20521439 4.46447813 2.61754887 3.92205557 2.33941589 0.8899664\n",
      " 2.05411191 3.10521824 0.14167997 4.06432645 4.66948069 4.79546624\n",
      " 3.98811588 0.13520205 2.40112849 2.64808212 3.4831363  1.93037951\n",
      " 0.98366387 0.37076294 3.72896328 3.4595726  1.18280467 4.87326818\n",
      " 2.46539426 4.51245309 2.70697318 1.81426957 3.04226197 4.8589261\n",
      " 1.55200185 3.26353882 2.21393476 1.08101274 1.42717787 1.07197134\n",
      " 0.59916419 4.5802037  2.89148261 4.776215   4.54625139 0.34334618\n",
      " 4.43611746 3.0434631  1.2768911  2.77127929 1.61306713 4.04864502\n",
      " 2.67316699 3.03215551 2.33336727 1.25113747 3.81070892 2.60308461\n",
      " 0.81129222 3.51738506 3.61786211 0.82352327 2.44007362 4.3829906\n",
      " 1.70450564 4.01246056 2.44982359 3.69670973 1.67107008 4.65094903\n",
      " 4.2698644  3.89176261 2.2124332  0.8933432  3.43995888 4.43995743\n",
      " 3.0416441  2.90051326 0.5407729  0.07246042 4.08388141 1.658342\n",
      " 1.97055501 4.39151257 2.41072387 4.19256449]\n"
     ]
    }
   ],
   "source": [
    "#creating an array containing 250 random floats between 0 and 5:\n",
    "x=np.random.uniform (0.0,5.0,250)\n",
    "print(x)"
   ]
  },
  {
   "cell_type": "code",
   "execution_count": 11,
   "id": "bad2fca9-1e7c-41c8-a4c6-9c15ae2911c7",
   "metadata": {},
   "outputs": [
    {
     "name": "stderr",
     "output_type": "stream",
     "text": [
      "Matplotlib is building the font cache; this may take a moment.\n"
     ]
    },
    {
     "data": {
      "image/png": "[encoded data removed]",
      "text/plain": [
       "<Figure size 640x480 with 1 Axes>"
      ]
     },
     "metadata": {},
     "output_type": "display_data"
    }
   ],
   "source": [
    "import matplotlib.pyplot as plt\n",
    "plt.hist(x,5)\n",
    "plt.show()"
   ]
  },
  {
   "cell_type": "code",
   "execution_count": 14,
   "id": "8f58bcba-e240-46e5-9cc4-09fc7d768754",
   "metadata": {},
   "outputs": [
    {
     "data": {
      "image/png": "[encoded data removed]",
      "text/plain": [
       "<Figure size 640x480 with 1 Axes>"
      ]
     },
     "metadata": {},
     "output_type": "display_data"
    }
   ],
   "source": [
    "#create array with 100000 random numbers,\n",
    "#AND DISPLAY THEM USING A HISTOGRAM WITH 100 BARS:\n",
    "x=np.random.uniform (0.0,5.0,100000)\n",
    "plt.hist(x,100,color=\"plum\",ec=\"black\")\n",
    "plt.show()"
   ]
  },
  {
   "cell_type": "code",
   "execution_count": 16,
   "id": "07ad614c-cc7e-4db1-ba05-ba31999d0966",
   "metadata": {},
   "outputs": [
    {
     "data": {
      "image/png": "[encoded data removed]",
      "text/plain": [
       "<Figure size 640x480 with 1 Axes>"
      ]
     },
     "metadata": {},
     "output_type": "display_data"
    }
   ],
   "source": [
    "#create array with 100000 random numbers,\n",
    "#normal distribution #100 BARS:\n",
    "x=np.random.normal(0.0,5.0,100000)\n",
    "plt.hist(x,100,color=\"plum\",ec=\"black\")\n",
    "plt.show()"
   ]
  },
  {
   "cell_type": "code",
   "execution_count": 2,
   "id": "3e2ee624-6f99-4a26-9090-17f27a074e2d",
   "metadata": {},
   "outputs": [
    {
     "data": {
      "image/png": "[encoded data removed]",
      "text/plain": [
       "<Figure size 640x480 with 1 Axes>"
      ]
     },
     "metadata": {},
     "output_type": "display_data"
    }
   ],
   "source": [
    "import matplotlib.pyplot as plt\n",
    "x=[5,7,8,7,2,17,2,9,4,11,12,9,6]\n",
    "y = [99,86,87,88,111,86,103,87,94,78,77,85,86]\n",
    "plt.scatter(x,y)\n",
    "plt.show()\n"
   ]
  },
  {
   "cell_type": "code",
   "execution_count": 3,
   "id": "b8e4957d-bd7f-4962-b449-c9f3f73df1f6",
   "metadata": {},
   "outputs": [
    {
     "data": {
      "image/png": "[encoded data removed]",
      "text/plain": [
       "<Figure size 640x480 with 1 Axes>"
      ]
     },
     "metadata": {},
     "output_type": "display_data"
    }
   ],
   "source": [
    "import numpy\n",
    "import matplotlib.pyplot as plt\n",
    "x=numpy.random.normal(5.0,1.0,1000)\n",
    "y=numpy.random.normal(10.0,2.0,1000)\n",
    "plt.scatter(x,y)\n",
    "plt.show()"
   ]
  },
  {
   "cell_type": "code",
   "execution_count": null,
   "id": "53e9d90d-4955-44e7-9493-eb10138b65ad",
   "metadata": {},
   "outputs": [],
   "source": []
  }
 ],
 "metadata": {
  "kernelspec": {
   "display_name": "Python 3 (ipykernel)",
   "language": "python",
   "name": "python3"
  },
  "language_info": {
   "codemirror_mode": {
    "name": "ipython",
    "version": 3
   },
   "file_extension": ".py",
   "mimetype": "text/x-python",
   "name": "python",
   "nbconvert_exporter": "python",
   "pygments_lexer": "ipython3",
   "version": "3.11.5"
  }
 },
 "nbformat": 4,
 "nbformat_minor": 5
}
