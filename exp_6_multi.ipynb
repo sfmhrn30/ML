{
  "nbformat": 4,
  "nbformat_minor": 0,
  "metadata": {
    "colab": {
      "provenance": [],
      "machine_shape": "hm"
    },
    "kernelspec": {
      "name": "python3",
      "display_name": "Python 3"
    }
  },
  "cells": [
    {
      "cell_type": "code",
      "metadata": {
        "id": "YvGPUQaHhXfL"
      },
      "source": [
        "import numpy as np\n",
        "import matplotlib.pyplot as plt\n",
        "import pandas as pd"
      ],
      "execution_count": 1,
      "outputs": []
    },
    {
      "cell_type": "code",
      "metadata": {
        "id": "M52QDmyzhh9s"
      },
      "source": [
        "dataset = pd.read_csv('winequality-red.csv')\n",
        "X = dataset.iloc[:, :-1].values\n",
        "y = dataset.iloc[:, -1].values"
      ],
      "execution_count": 2,
      "outputs": []
    },
    {
      "cell_type": "code",
      "metadata": {
        "id": "AVzJWAXIhxoC"
      },
      "source": [
        "from sklearn.model_selection import train_test_split\n",
        "X_train, X_test, y_train, y_test = train_test_split(X, y, test_size = 0.25, random_state = 0)"
      ],
      "execution_count": 3,
      "outputs": []
    },
    {
      "cell_type": "code",
      "metadata": {
        "id": "9fQlDPKCh8sc"
      },
      "source": [
        "from sklearn.preprocessing import StandardScaler\n",
        "sc = StandardScaler()\n",
        "X_train = sc.fit_transform(X_train)\n",
        "X_test = sc.transform(X_test)"
      ],
      "execution_count": 4,
      "outputs": []
    },
    {
      "cell_type": "code",
      "source": [
        "#decision_tree_classifier_using_entropy_criterion\n",
        "from sklearn.tree import DecisionTreeClassifier\n",
        "dec_en = DecisionTreeClassifier(criterion = 'entropy', random_state = 0)\n",
        "dec_en.fit(X_train, y_train)\n",
        "y_pred_dec_en=dec_en.predict(X_test)"
      ],
      "metadata": {
        "id": "fe7_pFsldEIG"
      },
      "execution_count": 5,
      "outputs": []
    },
    {
      "cell_type": "code",
      "source": [
        "#random_forest_classifier_using_entropy_criterion\n",
        "from sklearn.ensemble import RandomForestClassifier\n",
        "rf_classifier = RandomForestClassifier(n_estimators=10, criterion='entropy', random_state=0)\n",
        "rf_classifier.fit(X_train, y_train)\n",
        "y_pred_rf_en = rf_classifier.predict(X_test)"
      ],
      "metadata": {
        "id": "p_gt3jPshCAs"
      },
      "execution_count": 6,
      "outputs": []
    },
    {
      "cell_type": "code",
      "source": [
        "#bagging_classifier_using_entropy_criterion\n",
        "from sklearn.ensemble import BaggingClassifier\n",
        "from sklearn.tree import DecisionTreeClassifier\n",
        "base_classifier = DecisionTreeClassifier(criterion='entropy', random_state=0)\n",
        "bagging_classifier = BaggingClassifier(base_classifier, n_estimators=10, random_state=0)\n",
        "bagging_classifier.fit(X_train, y_train)\n",
        "y_pred_bag_en= bagging_classifier.predict(X_test)"
      ],
      "metadata": {
        "id": "EK5ycU-pi27P"
      },
      "execution_count": 7,
      "outputs": []
    },
    {
      "cell_type": "code",
      "source": [
        "#boosting_classifier_using_entropy_criterion\n",
        "from sklearn.ensemble import AdaBoostClassifier\n",
        "from sklearn.tree import DecisionTreeClassifier\n",
        "base= DecisionTreeClassifier(criterion='entropy', random_state=0)\n",
        "adaboost_classifier = AdaBoostClassifier(base, n_estimators=10, random_state=0)\n",
        "adaboost_classifier.fit(X_train,y_train)\n",
        "y_pred_boost_en=adaboost_classifier.predict(X_test)\n"
      ],
      "metadata": {
        "id": "PJpMUkqMj79E"
      },
      "execution_count": 8,
      "outputs": []
    },
    {
      "cell_type": "code",
      "source": [],
      "metadata": {
        "id": "GTxcEj1UqtSw"
      },
      "execution_count": null,
      "outputs": []
    },
    {
      "cell_type": "code",
      "source": [
        "#decision_tree_classifier_using_gini_criterion\n",
        "dec_gn = DecisionTreeClassifier(criterion='gini', random_state=0)\n",
        "dec_gn.fit(X_train,y_train)\n",
        "y_pred_gn=dec_gn.predict(X_test)"
      ],
      "metadata": {
        "id": "1CiCJTgGe_1s"
      },
      "execution_count": 9,
      "outputs": []
    },
    {
      "cell_type": "code",
      "source": [
        "#random_forest_classifier_using_gini_criterion\n",
        "from sklearn.ensemble import RandomForestClassifier\n",
        "rf_class = RandomForestClassifier(n_estimators=10, criterion='gini', random_state=0)\n",
        "rf_class.fit(X_train, y_train)\n",
        "y_pred_rf_gn = rf_class.predict(X_test)\n"
      ],
      "metadata": {
        "id": "tdTOrkM_gbd-"
      },
      "execution_count": 10,
      "outputs": []
    },
    {
      "cell_type": "code",
      "source": [
        "#bagging_classifier_using_gini_criterion\n",
        "from sklearn.ensemble import BaggingClassifier\n",
        "from sklearn.tree import DecisionTreeClassifier\n",
        "base_classifier = DecisionTreeClassifier(criterion='gini', random_state=0)\n",
        "bagging_class = BaggingClassifier(base_classifier, n_estimators=10, random_state=0)\n",
        "bagging_class.fit(X_train, y_train)\n",
        "y_pred_bag_gn= bagging_class.predict(X_test)"
      ],
      "metadata": {
        "id": "q6Vrq7XOjYX3"
      },
      "execution_count": 11,
      "outputs": []
    },
    {
      "cell_type": "code",
      "source": [
        "#boosting_classifier_using_gini_criterion\n",
        "from sklearn.ensemble import AdaBoostClassifier\n",
        "from sklearn.tree import DecisionTreeClassifier\n",
        "base_gn= DecisionTreeClassifier(criterion='gini', random_state=0)\n",
        "adaboost_class = AdaBoostClassifier(base_gn, n_estimators=10, random_state=0)\n",
        "adaboost_class.fit(X_train,y_train)\n",
        "y_pred_boost_gn=adaboost_class.predict(X_test)"
      ],
      "metadata": {
        "id": "L3CbilRzou5L"
      },
      "execution_count": 12,
      "outputs": []
    },
    {
      "cell_type": "code",
      "source": [
        "from sklearn.ensemble import VotingClassifier\n",
        "voting_classifier = VotingClassifier(\n",
        "    estimators=[\n",
        "        ('decision_tree_entropy', dec_en),\n",
        "        ('decision_tree_gini', dec_gn)\n",
        "    ],\n",
        "    voting='hard'\n",
        ")\n",
        "voting_classifier.fit(X_train, y_train)\n",
        "y_pred_votin = voting_classifier.predict(X_test)"
      ],
      "metadata": {
        "id": "eJUweeQjrH7E"
      },
      "execution_count": 13,
      "outputs": []
    },
    {
      "cell_type": "code",
      "source": [
        "#calculating_performances\n",
        "def calculate_metrics(y_true,y_pred):\n",
        "  from sklearn.metrics import accuracy_score, precision_score, recall_score, f1_score\n",
        "  accuracy = accuracy_score(y_true, y_pred)\n",
        "  precision = precision_score(y_true, y_pred,average='weighted')\n",
        "  recall = recall_score(y_true, y_pred,average='weighted')\n",
        "  f1 = f1_score(y_true, y_pred,average='weighted')\n",
        "  return accuracy,precision,recall,f1\n"
      ],
      "metadata": {
        "id": "YOArc3BesdB8"
      },
      "execution_count": 23,
      "outputs": []
    },
    {
      "cell_type": "code",
      "source": [
        "metrics={\n",
        "    \"technique\":[\"no_ensembling\",\"Random Forest\",\"Bagging\",\"Boosting\",],\n",
        "    \"accuracy\":[calculate_metrics(y_test,y_pred_dec_en)[0],calculate_metrics(y_test,y_pred_rf_en)[0],calculate_metrics(y_test,y_pred_bag_en)[0],calculate_metrics(y_test,y_pred_boost_en)[0]],\n",
        "    \"precision\":[calculate_metrics(y_test,y_pred_dec_en)[1],calculate_metrics(y_test,y_pred_rf_en)[1],calculate_metrics(y_test,y_pred_bag_en)[1],calculate_metrics(y_test,y_pred_boost_en)[1]],\n",
        "    \"recall\":[calculate_metrics(y_test,y_pred_dec_en)[2],calculate_metrics(y_test,y_pred_rf_en)[2],calculate_metrics(y_test,y_pred_bag_en)[2],calculate_metrics(y_test,y_pred_boost_en)[2]],\n",
        "    \"f1_score\":[calculate_metrics(y_test,y_pred_dec_en)[3],calculate_metrics(y_test,y_pred_rf_en)[3],calculate_metrics(y_test,y_pred_bag_en)[3],calculate_metrics(y_test,y_pred_boost_en)[3]]\n",
        "}"
      ],
      "metadata": {
        "id": "yL3ZP3iLt4q9",
        "colab": {
          "base_uri": "https://localhost:8080/"
        },
        "outputId": "95767f3f-56ae-4524-9b39-75399e60e20a"
      },
      "execution_count": 24,
      "outputs": [
        {
          "output_type": "stream",
          "name": "stderr",
          "text": [
            "/usr/local/lib/python3.10/dist-packages/sklearn/metrics/_classification.py:1344: UndefinedMetricWarning: Precision is ill-defined and being set to 0.0 in labels with no predicted samples. Use `zero_division` parameter to control this behavior.\n",
            "  _warn_prf(average, modifier, msg_start, len(result))\n",
            "/usr/local/lib/python3.10/dist-packages/sklearn/metrics/_classification.py:1344: UndefinedMetricWarning: Precision is ill-defined and being set to 0.0 in labels with no predicted samples. Use `zero_division` parameter to control this behavior.\n",
            "  _warn_prf(average, modifier, msg_start, len(result))\n",
            "/usr/local/lib/python3.10/dist-packages/sklearn/metrics/_classification.py:1344: UndefinedMetricWarning: Precision is ill-defined and being set to 0.0 in labels with no predicted samples. Use `zero_division` parameter to control this behavior.\n",
            "  _warn_prf(average, modifier, msg_start, len(result))\n",
            "/usr/local/lib/python3.10/dist-packages/sklearn/metrics/_classification.py:1344: UndefinedMetricWarning: Precision is ill-defined and being set to 0.0 in labels with no predicted samples. Use `zero_division` parameter to control this behavior.\n",
            "  _warn_prf(average, modifier, msg_start, len(result))\n",
            "/usr/local/lib/python3.10/dist-packages/sklearn/metrics/_classification.py:1344: UndefinedMetricWarning: Precision is ill-defined and being set to 0.0 in labels with no predicted samples. Use `zero_division` parameter to control this behavior.\n",
            "  _warn_prf(average, modifier, msg_start, len(result))\n",
            "/usr/local/lib/python3.10/dist-packages/sklearn/metrics/_classification.py:1344: UndefinedMetricWarning: Precision is ill-defined and being set to 0.0 in labels with no predicted samples. Use `zero_division` parameter to control this behavior.\n",
            "  _warn_prf(average, modifier, msg_start, len(result))\n",
            "/usr/local/lib/python3.10/dist-packages/sklearn/metrics/_classification.py:1344: UndefinedMetricWarning: Precision is ill-defined and being set to 0.0 in labels with no predicted samples. Use `zero_division` parameter to control this behavior.\n",
            "  _warn_prf(average, modifier, msg_start, len(result))\n",
            "/usr/local/lib/python3.10/dist-packages/sklearn/metrics/_classification.py:1344: UndefinedMetricWarning: Precision is ill-defined and being set to 0.0 in labels with no predicted samples. Use `zero_division` parameter to control this behavior.\n",
            "  _warn_prf(average, modifier, msg_start, len(result))\n"
          ]
        }
      ]
    },
    {
      "cell_type": "code",
      "source": [
        "metrics_2={\n",
        "    \"technique\":[\"no_ensembling\",\"Random Forest\",\"Bagging\",\"Boosting\",],\n",
        "    \"accuracy\":[calculate_metrics(y_test,y_pred_gn)[0],calculate_metrics(y_test,y_pred_rf_gn)[0],calculate_metrics(y_test,y_pred_bag_gn)[0],calculate_metrics(y_test,y_pred_boost_gn)[0]],\n",
        "    \"precision\":[calculate_metrics(y_test,y_pred_gn)[1],calculate_metrics(y_test,y_pred_rf_gn)[1],calculate_metrics(y_test,y_pred_bag_gn)[1],calculate_metrics(y_test,y_pred_boost_gn)[1]],\n",
        "    \"recall\":[calculate_metrics(y_test,y_pred_gn)[2],calculate_metrics(y_test,y_pred_rf_gn)[2],calculate_metrics(y_test,y_pred_bag_gn)[2],calculate_metrics(y_test,y_pred_boost_gn)[2]],\n",
        "    \"f1_score\":[calculate_metrics(y_test,y_pred_gn)[3],calculate_metrics(y_test,y_pred_rf_gn)[3],calculate_metrics(y_test,y_pred_bag_gn)[3],calculate_metrics(y_test,y_pred_boost_gn)[3]]\n",
        "}"
      ],
      "metadata": {
        "id": "DCa5k77ww9Ja",
        "colab": {
          "base_uri": "https://localhost:8080/"
        },
        "outputId": "0941d739-6734-4d08-946d-1fef2c33cb84"
      },
      "execution_count": 25,
      "outputs": [
        {
          "output_type": "stream",
          "name": "stderr",
          "text": [
            "/usr/local/lib/python3.10/dist-packages/sklearn/metrics/_classification.py:1344: UndefinedMetricWarning: Precision is ill-defined and being set to 0.0 in labels with no predicted samples. Use `zero_division` parameter to control this behavior.\n",
            "  _warn_prf(average, modifier, msg_start, len(result))\n",
            "/usr/local/lib/python3.10/dist-packages/sklearn/metrics/_classification.py:1344: UndefinedMetricWarning: Precision is ill-defined and being set to 0.0 in labels with no predicted samples. Use `zero_division` parameter to control this behavior.\n",
            "  _warn_prf(average, modifier, msg_start, len(result))\n",
            "/usr/local/lib/python3.10/dist-packages/sklearn/metrics/_classification.py:1344: UndefinedMetricWarning: Precision is ill-defined and being set to 0.0 in labels with no predicted samples. Use `zero_division` parameter to control this behavior.\n",
            "  _warn_prf(average, modifier, msg_start, len(result))\n",
            "/usr/local/lib/python3.10/dist-packages/sklearn/metrics/_classification.py:1344: UndefinedMetricWarning: Precision is ill-defined and being set to 0.0 in labels with no predicted samples. Use `zero_division` parameter to control this behavior.\n",
            "  _warn_prf(average, modifier, msg_start, len(result))\n",
            "/usr/local/lib/python3.10/dist-packages/sklearn/metrics/_classification.py:1344: UndefinedMetricWarning: Precision is ill-defined and being set to 0.0 in labels with no predicted samples. Use `zero_division` parameter to control this behavior.\n",
            "  _warn_prf(average, modifier, msg_start, len(result))\n",
            "/usr/local/lib/python3.10/dist-packages/sklearn/metrics/_classification.py:1344: UndefinedMetricWarning: Precision is ill-defined and being set to 0.0 in labels with no predicted samples. Use `zero_division` parameter to control this behavior.\n",
            "  _warn_prf(average, modifier, msg_start, len(result))\n",
            "/usr/local/lib/python3.10/dist-packages/sklearn/metrics/_classification.py:1344: UndefinedMetricWarning: Precision is ill-defined and being set to 0.0 in labels with no predicted samples. Use `zero_division` parameter to control this behavior.\n",
            "  _warn_prf(average, modifier, msg_start, len(result))\n",
            "/usr/local/lib/python3.10/dist-packages/sklearn/metrics/_classification.py:1344: UndefinedMetricWarning: Precision is ill-defined and being set to 0.0 in labels with no predicted samples. Use `zero_division` parameter to control this behavior.\n",
            "  _warn_prf(average, modifier, msg_start, len(result))\n"
          ]
        }
      ]
    },
    {
      "cell_type": "code",
      "source": [
        "metrics_df=pd.DataFrame(metrics)\n",
        "metrics_2_df=pd.DataFrame(metrics_2)"
      ],
      "metadata": {
        "id": "ShCewQ0-w6W-"
      },
      "execution_count": 26,
      "outputs": []
    },
    {
      "cell_type": "code",
      "source": [
        "print(\"decision tree using entropy criterion performance\\n\")\n",
        "print(metrics_df)"
      ],
      "metadata": {
        "colab": {
          "base_uri": "https://localhost:8080/"
        },
        "id": "ODE5KbbIxt3C",
        "outputId": "0304e5b7-469d-4621-e923-b544e32ceef1"
      },
      "execution_count": 27,
      "outputs": [
        {
          "output_type": "stream",
          "name": "stdout",
          "text": [
            "decision tree using entropy criterion performance\n",
            "\n",
            "       technique  accuracy  precision  recall  f1_score\n",
            "0  no_ensembling    0.6050   0.624912  0.6050  0.613512\n",
            "1  Random Forest    0.6650   0.633754  0.6650  0.647376\n",
            "2        Bagging    0.6550   0.637730  0.6550  0.643919\n",
            "3       Boosting    0.6025   0.614905  0.6025  0.607425\n"
          ]
        }
      ]
    },
    {
      "cell_type": "code",
      "source": [
        "print(\"decision tree using gini criterion performance\\n\")\n",
        "print(metrics_2_df)"
      ],
      "metadata": {
        "colab": {
          "base_uri": "https://localhost:8080/"
        },
        "id": "EBHHWnAAyRNd",
        "outputId": "a450b680-84cc-45c8-bf6e-7189f3fea01e"
      },
      "execution_count": 28,
      "outputs": [
        {
          "output_type": "stream",
          "name": "stdout",
          "text": [
            "decision tree using gini criterion performance\n",
            "\n",
            "       technique  accuracy  precision  recall  f1_score\n",
            "0  no_ensembling    0.6350   0.649809  0.6350  0.640195\n",
            "1  Random Forest    0.6625   0.629770  0.6625  0.644197\n",
            "2        Bagging    0.6350   0.604606  0.6350  0.619111\n",
            "3       Boosting    0.6225   0.633172  0.6225  0.625993\n"
          ]
        }
      ]
    },
    {
      "cell_type": "code",
      "source": [
        "\n",
        "\n",
        "metrics_3={\"accuracy\":[calculate_metrics(y_test,y_pred_votin)[0]],\n",
        "           \"precision\":[calculate_metrics(y_test,y_pred_votin)[1]],\n",
        "           \"recall\":[calculate_metrics(y_test,y_pred_votin)[2]],\n",
        "           \"f1_score\":[calculate_metrics(y_test,y_pred_votin)[3]]}\n",
        "metrics_3_df=pd.DataFrame(metrics_3)\n",
        "print(\"performance using voting of gini and entropy criterion based decision tree\\n\")\n",
        "print(metrics_3_df)"
      ],
      "metadata": {
        "colab": {
          "base_uri": "https://localhost:8080/"
        },
        "id": "VYineZM1ylou",
        "outputId": "9ca3a034-65d2-42f2-d830-25b6fcdf91db"
      },
      "execution_count": null,
      "outputs": [
        {
          "output_type": "stream",
          "name": "stdout",
          "text": [
            "performance using voting of gini and entropy criterion based decision tree\n",
            "\n",
            "   accuracy  precision   recall  f1_score\n",
            "0      0.89   0.818182  0.84375  0.830769\n"
          ]
        }
      ]
    }
  ]
}